{
  "nbformat": 4,
  "nbformat_minor": 0,
  "metadata": {
    "colab": {
      "name": "kmeans(naosupervisionado).ipynb",
      "provenance": [],
      "include_colab_link": true
    },
    "kernelspec": {
      "name": "python3",
      "display_name": "Python 3"
    }
  },
  "cells": [
    {
      "cell_type": "markdown",
      "metadata": {
        "id": "view-in-github",
        "colab_type": "text"
      },
      "source": [
        "<a href=\"https://colab.research.google.com/github/victor-maciel/tabd-unifacisa/blob/master/kmeans(naosupervisionado).ipynb\" target=\"_parent\"><img src=\"https://colab.research.google.com/assets/colab-badge.svg\" alt=\"Open In Colab\"/></a>"
      ]
    },
    {
      "cell_type": "code",
      "metadata": {
        "id": "SYP_VCZ_G-pQ",
        "colab_type": "code",
        "colab": {
          "base_uri": "https://localhost:8080/",
          "height": 221
        },
        "outputId": "56c19aea-0791-4708-e4d3-2d124e1047d4"
      },
      "source": [
        "!pip install seaborn==0.9.0"
      ],
      "execution_count": 3,
      "outputs": [
        {
          "output_type": "stream",
          "text": [
            "Requirement already satisfied: seaborn==0.9.0 in /usr/local/lib/python3.6/dist-packages (0.9.0)\n",
            "Requirement already satisfied: pandas>=0.15.2 in /usr/local/lib/python3.6/dist-packages (from seaborn==0.9.0) (0.25.2)\n",
            "Requirement already satisfied: matplotlib>=1.4.3 in /usr/local/lib/python3.6/dist-packages (from seaborn==0.9.0) (3.1.1)\n",
            "Requirement already satisfied: numpy>=1.9.3 in /usr/local/lib/python3.6/dist-packages (from seaborn==0.9.0) (1.17.3)\n",
            "Requirement already satisfied: scipy>=0.14.0 in /usr/local/lib/python3.6/dist-packages (from seaborn==0.9.0) (1.3.1)\n",
            "Requirement already satisfied: pytz>=2017.2 in /usr/local/lib/python3.6/dist-packages (from pandas>=0.15.2->seaborn==0.9.0) (2018.9)\n",
            "Requirement already satisfied: python-dateutil>=2.6.1 in /usr/local/lib/python3.6/dist-packages (from pandas>=0.15.2->seaborn==0.9.0) (2.6.1)\n",
            "Requirement already satisfied: kiwisolver>=1.0.1 in /usr/local/lib/python3.6/dist-packages (from matplotlib>=1.4.3->seaborn==0.9.0) (1.1.0)\n",
            "Requirement already satisfied: pyparsing!=2.0.4,!=2.1.2,!=2.1.6,>=2.0.1 in /usr/local/lib/python3.6/dist-packages (from matplotlib>=1.4.3->seaborn==0.9.0) (2.4.2)\n",
            "Requirement already satisfied: cycler>=0.10 in /usr/local/lib/python3.6/dist-packages (from matplotlib>=1.4.3->seaborn==0.9.0) (0.10.0)\n",
            "Requirement already satisfied: six>=1.5 in /usr/local/lib/python3.6/dist-packages (from python-dateutil>=2.6.1->pandas>=0.15.2->seaborn==0.9.0) (1.12.0)\n",
            "Requirement already satisfied: setuptools in /usr/local/lib/python3.6/dist-packages (from kiwisolver>=1.0.1->matplotlib>=1.4.3->seaborn==0.9.0) (41.4.0)\n"
          ],
          "name": "stdout"
        }
      ]
    },
    {
      "cell_type": "code",
      "metadata": {
        "id": "nP0aLoGMHdVb",
        "colab_type": "code",
        "colab": {}
      },
      "source": [
        "import pandas as pd"
      ],
      "execution_count": 0,
      "outputs": []
    },
    {
      "cell_type": "code",
      "metadata": {
        "id": "Z6Yh_XF3HnX4",
        "colab_type": "code",
        "colab": {
          "base_uri": "https://localhost:8080/",
          "height": 204
        },
        "outputId": "4939ac83-8ab1-4693-ad01-efb25fe39957"
      },
      "source": [
        "uri_filmes = 'https://raw.githubusercontent.com/DWA-GIT/TESI-UNIFACISA/master/movies_novo.csv'\n",
        "filmes = pd.read_csv(uri_filmes)\n",
        "filmes.head()\n"
      ],
      "execution_count": 13,
      "outputs": [
        {
          "output_type": "execute_result",
          "data": {
            "text/html": [
              "<div>\n",
              "<style scoped>\n",
              "    .dataframe tbody tr th:only-of-type {\n",
              "        vertical-align: middle;\n",
              "    }\n",
              "\n",
              "    .dataframe tbody tr th {\n",
              "        vertical-align: top;\n",
              "    }\n",
              "\n",
              "    .dataframe thead th {\n",
              "        text-align: right;\n",
              "    }\n",
              "</style>\n",
              "<table border=\"1\" class=\"dataframe\">\n",
              "  <thead>\n",
              "    <tr style=\"text-align: right;\">\n",
              "      <th></th>\n",
              "      <th>movieId</th>\n",
              "      <th>title</th>\n",
              "      <th>genres</th>\n",
              "    </tr>\n",
              "  </thead>\n",
              "  <tbody>\n",
              "    <tr>\n",
              "      <th>0</th>\n",
              "      <td>1</td>\n",
              "      <td>Toy Story (1995)</td>\n",
              "      <td>Adventure|Animation|Children|Comedy|Fantasy</td>\n",
              "    </tr>\n",
              "    <tr>\n",
              "      <th>1</th>\n",
              "      <td>2</td>\n",
              "      <td>Jumanji (1995)</td>\n",
              "      <td>Adventure|Children|Fantasy</td>\n",
              "    </tr>\n",
              "    <tr>\n",
              "      <th>2</th>\n",
              "      <td>3</td>\n",
              "      <td>Grumpier Old Men (1995)</td>\n",
              "      <td>Comedy|Romance</td>\n",
              "    </tr>\n",
              "    <tr>\n",
              "      <th>3</th>\n",
              "      <td>4</td>\n",
              "      <td>Waiting to Exhale (1995)</td>\n",
              "      <td>Comedy|Drama|Romance</td>\n",
              "    </tr>\n",
              "    <tr>\n",
              "      <th>4</th>\n",
              "      <td>5</td>\n",
              "      <td>Father of the Bride Part II (1995)</td>\n",
              "      <td>Comedy</td>\n",
              "    </tr>\n",
              "  </tbody>\n",
              "</table>\n",
              "</div>"
            ],
            "text/plain": [
              "   movieId  ...                                       genres\n",
              "0        1  ...  Adventure|Animation|Children|Comedy|Fantasy\n",
              "1        2  ...                   Adventure|Children|Fantasy\n",
              "2        3  ...                               Comedy|Romance\n",
              "3        4  ...                         Comedy|Drama|Romance\n",
              "4        5  ...                                       Comedy\n",
              "\n",
              "[5 rows x 3 columns]"
            ]
          },
          "metadata": {
            "tags": []
          },
          "execution_count": 13
        }
      ]
    },
    {
      "cell_type": "code",
      "metadata": {
        "id": "SmrAur9AIYj2",
        "colab_type": "code",
        "colab": {
          "base_uri": "https://localhost:8080/",
          "height": 204
        },
        "outputId": "928db8bb-319f-475c-f047-319c16adebbf"
      },
      "source": [
        "filmes.colunms = ['filme_id','titulo','genero']\n",
        "filmes.head()"
      ],
      "execution_count": 18,
      "outputs": [
        {
          "output_type": "execute_result",
          "data": {
            "text/html": [
              "<div>\n",
              "<style scoped>\n",
              "    .dataframe tbody tr th:only-of-type {\n",
              "        vertical-align: middle;\n",
              "    }\n",
              "\n",
              "    .dataframe tbody tr th {\n",
              "        vertical-align: top;\n",
              "    }\n",
              "\n",
              "    .dataframe thead th {\n",
              "        text-align: right;\n",
              "    }\n",
              "</style>\n",
              "<table border=\"1\" class=\"dataframe\">\n",
              "  <thead>\n",
              "    <tr style=\"text-align: right;\">\n",
              "      <th></th>\n",
              "      <th>filme_id</th>\n",
              "      <th>titulo</th>\n",
              "      <th>genero</th>\n",
              "    </tr>\n",
              "  </thead>\n",
              "  <tbody>\n",
              "    <tr>\n",
              "      <th>0</th>\n",
              "      <td>1</td>\n",
              "      <td>Toy Story (1995)</td>\n",
              "      <td>Adventure|Animation|Children|Comedy|Fantasy</td>\n",
              "    </tr>\n",
              "    <tr>\n",
              "      <th>1</th>\n",
              "      <td>2</td>\n",
              "      <td>Jumanji (1995)</td>\n",
              "      <td>Adventure|Children|Fantasy</td>\n",
              "    </tr>\n",
              "    <tr>\n",
              "      <th>2</th>\n",
              "      <td>3</td>\n",
              "      <td>Grumpier Old Men (1995)</td>\n",
              "      <td>Comedy|Romance</td>\n",
              "    </tr>\n",
              "    <tr>\n",
              "      <th>3</th>\n",
              "      <td>4</td>\n",
              "      <td>Waiting to Exhale (1995)</td>\n",
              "      <td>Comedy|Drama|Romance</td>\n",
              "    </tr>\n",
              "    <tr>\n",
              "      <th>4</th>\n",
              "      <td>5</td>\n",
              "      <td>Father of the Bride Part II (1995)</td>\n",
              "      <td>Comedy</td>\n",
              "    </tr>\n",
              "  </tbody>\n",
              "</table>\n",
              "</div>"
            ],
            "text/plain": [
              "   filme_id  ...                                       genero\n",
              "0         1  ...  Adventure|Animation|Children|Comedy|Fantasy\n",
              "1         2  ...                   Adventure|Children|Fantasy\n",
              "2         3  ...                               Comedy|Romance\n",
              "3         4  ...                         Comedy|Drama|Romance\n",
              "4         5  ...                                       Comedy\n",
              "\n",
              "[5 rows x 3 columns]"
            ]
          },
          "metadata": {
            "tags": []
          },
          "execution_count": 18
        }
      ]
    },
    {
      "cell_type": "code",
      "metadata": {
        "id": "rF-S1nSPJVzk",
        "colab_type": "code",
        "colab": {
          "base_uri": "https://localhost:8080/",
          "height": 34
        },
        "outputId": "d718b410-7e84-4d50-957a-0935b73a7b27"
      },
      "source": [
        "generos = filmes.genero.str.get_dummies()\n",
        "dados_dos_filmes = pd.concat([filmes, generos], axis=1)\n",
        "dados_dos_filmes.head()\n",
        "\n"
      ],
      "execution_count": 30,
      "outputs": [
        {
          "output_type": "execute_result",
          "data": {
            "text/plain": [
              "(9742, 23)"
            ]
          },
          "metadata": {
            "tags": []
          },
          "execution_count": 30
        }
      ]
    },
    {
      "cell_type": "code",
      "metadata": {
        "id": "q1U9lLzIKJgq",
        "colab_type": "code",
        "colab": {
          "base_uri": "https://localhost:8080/",
          "height": 34
        },
        "outputId": "aea3690f-fd58-4a9b-9e7f-2446c6fccdd8"
      },
      "source": [
        "dados_dos_filmes.shape"
      ],
      "execution_count": 32,
      "outputs": [
        {
          "output_type": "execute_result",
          "data": {
            "text/plain": [
              "(9742, 23)"
            ]
          },
          "metadata": {
            "tags": []
          },
          "execution_count": 32
        }
      ]
    },
    {
      "cell_type": "code",
      "metadata": {
        "id": "CtxJu7pHK-ak",
        "colab_type": "code",
        "colab": {
          "base_uri": "https://localhost:8080/",
          "height": 238
        },
        "outputId": "19369afe-857a-4aad-eb70-d248311a0fd6"
      },
      "source": [
        "from sklearn.preprocessing import StandardScaler\n",
        "\n",
        "scaler = StandardScaler()\n",
        "\n",
        "generos_escalados = scaler.fit_transform(generos)\n",
        "\n",
        "generos_escalados"
      ],
      "execution_count": 35,
      "outputs": [
        {
          "output_type": "execute_result",
          "data": {
            "text/plain": [
              "array([[-0.05917995, -0.48060698,  2.59101927, ..., -0.49125897,\n",
              "        -0.20201972, -0.13206534],\n",
              "       [-0.05917995, -0.48060698,  2.59101927, ..., -0.49125897,\n",
              "        -0.20201972, -0.13206534],\n",
              "       [-0.05917995, -0.48060698, -0.3859485 , ..., -0.49125897,\n",
              "        -0.20201972, -0.13206534],\n",
              "       ...,\n",
              "       [-0.05917995, -0.48060698, -0.3859485 , ..., -0.49125897,\n",
              "        -0.20201972, -0.13206534],\n",
              "       [-0.05917995,  2.0807022 , -0.3859485 , ..., -0.49125897,\n",
              "        -0.20201972, -0.13206534],\n",
              "       [-0.05917995, -0.48060698, -0.3859485 , ..., -0.49125897,\n",
              "        -0.20201972, -0.13206534]])"
            ]
          },
          "metadata": {
            "tags": []
          },
          "execution_count": 35
        }
      ]
    },
    {
      "cell_type": "code",
      "metadata": {
        "id": "b3Nv6VwFL--u",
        "colab_type": "code",
        "colab": {
          "base_uri": "https://localhost:8080/",
          "height": 68
        },
        "outputId": "0d8be38c-9984-417d-bdc3-cc2626c47a0a"
      },
      "source": [
        "from sklearn.cluster import KMeans\n",
        "\n",
        "modelo = KMeans()\n",
        "\n",
        "modelo.fit(generos_escalados)"
      ],
      "execution_count": 38,
      "outputs": [
        {
          "output_type": "execute_result",
          "data": {
            "text/plain": [
              "KMeans(algorithm='auto', copy_x=True, init='k-means++', max_iter=300,\n",
              "       n_clusters=8, n_init=10, n_jobs=None, precompute_distances='auto',\n",
              "       random_state=None, tol=0.0001, verbose=0)"
            ]
          },
          "metadata": {
            "tags": []
          },
          "execution_count": 38
        }
      ]
    },
    {
      "cell_type": "code",
      "metadata": {
        "id": "bqIlkEVWMu8s",
        "colab_type": "code",
        "colab": {
          "base_uri": "https://localhost:8080/",
          "height": 34
        },
        "outputId": "73255167-8210-411b-8694-a0dded132326"
      },
      "source": [
        "print(f'Grupos {modelo.labels_}')"
      ],
      "execution_count": 40,
      "outputs": [
        {
          "output_type": "stream",
          "text": [
            "Grupos [7 7 6 ... 1 3 1]\n"
          ],
          "name": "stdout"
        }
      ]
    },
    {
      "cell_type": "code",
      "metadata": {
        "id": "46ZT6I-OM2ab",
        "colab_type": "code",
        "colab": {
          "base_uri": "https://localhost:8080/",
          "height": 102
        },
        "outputId": "f27d50c0-6a53-4b46-d17c-f67b685b55fe"
      },
      "source": [
        "print(generos.columns)"
      ],
      "execution_count": 42,
      "outputs": [
        {
          "output_type": "stream",
          "text": [
            "Index(['(no genres listed)', 'Action', 'Adventure', 'Animation', 'Children',\n",
            "       'Comedy', 'Crime', 'Documentary', 'Drama', 'Fantasy', 'Film-Noir',\n",
            "       'Horror', 'IMAX', 'Musical', 'Mystery', 'Romance', 'Sci-Fi', 'Thriller',\n",
            "       'War', 'Western'],\n",
            "      dtype='object')\n"
          ],
          "name": "stdout"
        }
      ]
    },
    {
      "cell_type": "code",
      "metadata": {
        "id": "_uAzaCrtM6sc",
        "colab_type": "code",
        "colab": {
          "base_uri": "https://localhost:8080/",
          "height": 697
        },
        "outputId": "801b07fa-2fe4-40a5-af2b-48c220f30742"
      },
      "source": [
        "print(modelo.cluster_centers_)"
      ],
      "execution_count": 44,
      "outputs": [
        {
          "output_type": "stream",
          "text": [
            "[[-5.91799474e-02  4.05467549e-01  5.65737354e-02 -2.02943048e-01\n",
            "  -2.59726965e-01 -4.70061516e-01 -3.00590270e-01 -1.91460174e-01\n",
            "   7.19466497e-01 -2.35023502e-01 -9.49256298e-02 -3.07074888e-01\n",
            "  -4.28107398e-02 -1.58712243e-01 -2.15525249e-01 -4.83110001e-02\n",
            "  -2.26611372e-01 -2.11257199e-01  4.95001190e+00  7.61529044e-02]\n",
            " [-5.91799474e-02 -4.73476024e-01 -2.55597849e-01 -2.46152285e-01\n",
            "  -2.70451223e-01  1.80288482e-01  6.75882257e-02 -2.17489438e-01\n",
            "   3.10660862e-01 -1.71635720e-01  6.91844154e-02 -3.34055205e-01\n",
            "  -1.26393348e-01  7.53599269e-04 -1.35959113e-01 -4.42633460e-01\n",
            "  -2.16632273e-01 -1.48462449e-01 -2.02019716e-01  3.95263091e-02]\n",
            " [-5.91799474e-02 -1.98564875e-01 -3.37975877e-01 -2.18062153e-01\n",
            "  -2.63346522e-01 -4.53686351e-01 -4.48962197e-02 -2.17489438e-01\n",
            "  -4.32141201e-01 -1.75552453e-02  2.87837242e-02  2.45431343e+00\n",
            "  -1.00047082e-01 -1.53978319e-01  9.44789118e-01 -4.01513259e-01\n",
            "   3.50119889e-01  9.13549344e-01 -2.02019716e-01 -7.68884352e-02]\n",
            " [-5.91799474e-02  1.86823567e+00  7.10726758e-01 -1.23980530e-01\n",
            "  -2.62675961e-01 -3.53303146e-01  4.30585838e-01 -2.17489438e-01\n",
            "  -3.49867005e-01  1.21794290e-01 -6.02114288e-02 -2.94932865e-01\n",
            "   3.88698696e-01 -1.81239667e-01 -4.45551885e-02 -3.61454755e-01\n",
            "   6.70966123e-01  5.13867579e-01 -2.02019716e-01  5.41206672e-02]\n",
            " [-5.91799474e-02 -4.57216027e-01 -3.45168120e-01 -2.39845950e-01\n",
            "  -2.61391918e-01 -6.04496055e-01 -3.39883631e-01  4.59792443e+00\n",
            "  -8.08417800e-01 -2.77975054e-01 -9.49256298e-02 -3.18860810e-01\n",
            "   1.62008451e-02 -2.53033569e-02 -2.30579040e-01 -4.30296295e-01\n",
            "  -3.34434762e-01 -4.79720860e-01 -8.43934238e-02 -1.14476125e-01]\n",
            " [ 1.68976156e+01 -4.80606979e-01 -3.85948500e-01 -2.58679155e-01\n",
            "  -2.70451223e-01 -7.92126305e-01 -3.74631584e-01 -2.17489438e-01\n",
            "  -9.00246719e-01 -2.94809878e-01 -9.49256298e-02 -3.34055205e-01\n",
            "  -1.28397078e-01 -1.88418950e-01 -2.49986367e-01 -4.42633460e-01\n",
            "  -3.34434762e-01 -4.91258966e-01 -2.02019716e-01 -1.32065337e-01]\n",
            " [-5.91799474e-02 -4.19836210e-01 -2.67534570e-01 -2.24140660e-01\n",
            "  -2.48299231e-01  3.96445209e-01 -2.21692094e-01 -2.17489438e-01\n",
            "   3.09472725e-01 -5.81120157e-02 -3.55844528e-02 -3.10834183e-01\n",
            "  -1.06298721e-01  1.03050901e-01 -9.27910848e-02  2.25920562e+00\n",
            "  -2.50914899e-01 -3.51956264e-01 -2.02019716e-01 -4.06701704e-02]\n",
            " [-5.91799474e-02 -1.14705667e-01  9.51629183e-01  2.20745093e+00\n",
            "   2.69638770e+00  2.68287239e-01 -3.29042910e-01 -2.17489438e-01\n",
            "  -6.15270269e-01  9.36963947e-01 -9.49256298e-02 -2.99552726e-01\n",
            "   2.09067488e-01  4.32067909e-01 -1.47158838e-01 -3.05673876e-01\n",
            "   4.47483022e-02 -4.73792294e-01 -1.90148676e-01 -7.88113629e-02]]\n"
          ],
          "name": "stdout"
        }
      ]
    },
    {
      "cell_type": "code",
      "metadata": {
        "id": "2O_MbV7yNXQC",
        "colab_type": "code",
        "colab": {
          "base_uri": "https://localhost:8080/",
          "height": 1000
        },
        "outputId": "e70637b5-01e0-4578-e215-b7eb661b4e28"
      },
      "source": [
        "modelo_novo = KMeans(n_clusters=20)\n",
        "modelo_novo.fit(generos_escalados)\n",
        "print(modelo_novo.cluster_centers_)"
      ],
      "execution_count": 45,
      "outputs": [
        {
          "output_type": "stream",
          "text": [
            "[[-5.91799474e-02  9.10448871e-01  2.59101927e+00 -2.58679155e-01\n",
            "  -2.70451223e-01 -6.00448281e-02 -6.84901366e-02 -2.17489438e-01\n",
            "  -1.43212279e-01 -2.94809878e-01 -9.49256298e-02 -3.14931226e-01\n",
            "  -1.28397078e-01 -1.88418950e-01 -2.49986367e-01  4.64925799e-02\n",
            "  -3.34434762e-01  1.76757587e-01 -2.02019716e-01 -1.32065337e-01]\n",
            " [-5.91799474e-02 -3.02834172e-01 -3.85948500e-01 -2.58679155e-01\n",
            "  -2.70451223e-01  1.26242494e+00 -3.74631584e-01 -2.17489438e-01\n",
            "  -2.95846597e-01 -2.94809878e-01 -9.49256298e-02 -3.34055205e-01\n",
            "  -1.28397078e-01 -1.88418950e-01 -2.49986367e-01 -4.42633460e-01\n",
            "  -3.34434762e-01 -4.91258966e-01 -2.02019716e-01 -1.32065337e-01]\n",
            " [-5.91799474e-02  4.02104096e-01  3.45271730e-02 -2.00423902e-01\n",
            "  -2.59242253e-01 -4.67112549e-01 -2.97243770e-01 -1.90283710e-01\n",
            "   7.47226341e-01 -2.42736057e-01 -9.49256298e-02 -3.05855439e-01\n",
            "  -1.28397078e-01 -1.88418950e-01 -2.13967684e-01 -5.33854574e-02\n",
            "  -2.31129395e-01 -1.98601751e-01  4.95001190e+00 -1.32065337e-01]\n",
            " [ 1.68976156e+01 -4.80606979e-01 -3.85948500e-01 -2.58679155e-01\n",
            "  -2.70451223e-01 -7.92126305e-01 -3.74631584e-01 -2.17489438e-01\n",
            "  -9.00246719e-01 -2.94809878e-01 -9.49256298e-02 -3.34055205e-01\n",
            "  -1.28397078e-01 -1.88418950e-01 -2.49986367e-01 -4.42633460e-01\n",
            "  -3.34434762e-01 -4.91258966e-01 -2.02019716e-01 -1.32065337e-01]\n",
            " [-5.91799474e-02  4.71714540e-01 -3.46159138e-01 -2.43644628e-01\n",
            "  -2.70451223e-01 -1.68022040e-01  2.66928909e+00 -2.17489438e-01\n",
            "   2.65333396e-01 -2.85850397e-01 -9.49256298e-02 -3.21925536e-01\n",
            "  -1.28397078e-01 -1.88418950e-01 -2.49986367e-01 -3.11316859e-01\n",
            "  -3.26355651e-01  6.63168498e-01 -2.02019716e-01 -1.32065337e-01]\n",
            " [-5.91799474e-02 -3.33405302e-01 -3.17512460e-01 -1.63863709e-01\n",
            "  -2.70451223e-01 -7.44895242e-01  1.44472330e+00 -2.17489438e-01\n",
            "   2.55531052e-01 -2.52432562e-01  1.05345627e+01 -2.57559288e-01\n",
            "  -1.28397078e-01 -1.88418950e-01  9.22483843e-01 -1.94188487e-01\n",
            "  -2.19794951e-01  6.99553150e-01 -2.02019716e-01 -4.35127516e-02]\n",
            " [-5.91799474e-02 -4.62135999e-01 -3.64479983e-01 -2.38849963e-01\n",
            "  -2.60912821e-01 -6.04450951e-01 -3.38045999e-01  4.59792443e+00\n",
            "  -8.08395726e-01 -2.85947314e-01 -9.49256298e-02 -3.18057261e-01\n",
            "  -1.28397078e-01 -1.88418950e-01 -2.29552691e-01 -4.29643849e-01\n",
            "  -3.34434762e-01 -4.79110672e-01 -7.81728026e-02 -1.32065337e-01]\n",
            " [-5.91799474e-02 -2.14666791e-01 -3.85948500e-01 -2.58679155e-01\n",
            "  -2.70451223e-01 -7.92126305e-01 -3.74631584e-01 -2.17489438e-01\n",
            "   1.00811452e+00 -2.94809878e-01 -9.49256298e-02 -3.34055205e-01\n",
            "  -1.28397078e-01 -1.88418950e-01 -2.49986367e-01 -4.42633460e-01\n",
            "  -3.34434762e-01 -4.91258966e-01 -2.02019716e-01 -1.32065337e-01]\n",
            " [-5.91799474e-02 -1.91556413e-01  9.11225542e-01 -2.58679155e-01\n",
            "   3.69752441e+00  3.92944004e-01 -3.46005371e-01 -2.17489438e-01\n",
            "  -4.65253994e-01  8.60935101e-01 -9.49256298e-02 -3.13192682e-01\n",
            "  -1.28397078e-01 -1.88418950e-01 -1.16751116e-01 -3.07118021e-01\n",
            "   9.48467342e-03 -4.75416677e-01 -2.02019716e-01 -1.32065337e-01]\n",
            " [-5.91799474e-02 -4.40079935e-01 -2.79587055e-02  5.63604799e-01\n",
            "   7.21542684e-01  2.48152805e-01 -2.97570301e-01 -3.46256199e-02\n",
            "  -1.81104234e-01  2.65214398e-01 -9.49256298e-02 -2.60343158e-01\n",
            "  -1.28397078e-01  5.30732180e+00 -1.82736295e-01  3.26877670e-01\n",
            "  -2.60789567e-01 -4.67269929e-01 -1.69411921e-01 -1.32065337e-01]\n",
            " [-5.91799474e-02  9.28672310e-01  2.12045025e-01 -1.50614389e-01\n",
            "  -2.70451223e-01 -6.75492392e-01 -2.15124824e-01 -2.17489438e-01\n",
            "  -4.87497784e-01 -1.98211804e-01 -9.49256298e-02  7.26699315e-01\n",
            "  -1.28397078e-01 -1.88418950e-01 -2.31426522e-01 -3.71842917e-01\n",
            "   2.99011978e+00  2.03558626e+00 -2.02019716e-01 -1.32065337e-01]\n",
            " [-5.91799474e-02 -4.27195792e-01 -3.83126730e-01 -2.58679155e-01\n",
            "  -2.70451223e-01  5.28239327e-01 -3.31353091e-01 -2.17489438e-01\n",
            "   3.21634968e-01 -2.94809878e-01 -9.49256298e-02 -3.34055205e-01\n",
            "  -1.28397078e-01 -1.88418950e-01 -2.49986367e-01  2.25920562e+00\n",
            "  -3.28132289e-01 -4.74493169e-01 -2.02019716e-01 -1.32065337e-01]\n",
            " [-5.91799474e-02  1.02699906e+00  1.12137695e+00  6.28865430e-01\n",
            "   4.82961871e-01 -4.41032105e-01 -1.62713056e-01  2.63289860e-02\n",
            "  -4.92944780e-01  8.01904329e-01 -9.49256298e-02 -8.13281873e-02\n",
            "   7.78833922e+00  8.98464044e-02 -8.85861954e-02 -2.88731234e-01\n",
            "   9.70137275e-01  6.84852284e-02 -7.15885363e-02 -3.45454012e-02]\n",
            " [-5.91799474e-02  1.28484839e-01  2.49379987e-01 -1.83231498e-01\n",
            "  -1.25281383e-01 -3.03543998e-01 -1.89026665e-01 -1.88127158e-01\n",
            "  -1.89020544e-01 -1.59925982e-01 -9.49256298e-02 -1.92024676e-01\n",
            "  -1.28397078e-01  1.46687193e-01 -1.72238723e-01 -1.13140890e-01\n",
            "  -1.92533044e-01 -2.44737481e-01  1.12128553e-01  7.57200960e+00]\n",
            " [-5.91799474e-02  1.49136395e-01  8.62655749e-01  3.86579274e+00\n",
            "   1.55776895e+00  1.37515682e-01 -2.80295199e-01 -2.17489438e-01\n",
            "  -6.26012175e-01  7.10688253e-01 -9.49256298e-02 -2.58428560e-01\n",
            "  -1.28397078e-01 -1.88418950e-01 -1.70953638e-01 -2.80746408e-01\n",
            "   2.63160786e-01 -4.70375948e-01 -1.80730330e-01 -1.32065337e-01]\n",
            " [-5.91799474e-02  3.95990817e-01  8.31901950e-01 -2.58679155e-01\n",
            "  -2.70451223e-01  8.68260978e-02 -2.85104505e-01 -2.04614000e-01\n",
            "  -2.01217490e-01  3.39201660e+00 -9.49256298e-02  2.18348912e-02\n",
            "  -1.28397078e-01 -1.88418950e-01 -2.04529634e-01  1.64196707e-01\n",
            "   1.45581135e-01 -2.81814576e-01 -2.02019716e-01 -1.32065337e-01]\n",
            " [-5.91799474e-02 -1.56005419e-01 -2.73943772e-01 -1.93340986e-01\n",
            "  -2.39021714e-01 -5.27679115e-01  4.93337876e-01 -2.17489438e-01\n",
            "   1.43111638e-01 -2.46859573e-02 -9.49256298e-02  5.22547591e-01\n",
            "  -1.28397078e-01 -1.88418950e-01  4.00021814e+00 -1.43023582e-01\n",
            "   4.73952647e-02  1.17495778e+00 -2.02019716e-01 -1.32065337e-01]\n",
            " [-5.91799474e-02 -2.41315117e-01 -3.49895257e-01 -2.51543391e-01\n",
            "  -2.70451223e-01 -3.58466700e-01 -1.74512231e-01 -2.17489438e-01\n",
            "  -5.76668935e-01 -1.67238027e-01 -9.49256298e-02  2.99351719e+00\n",
            "  -1.28397078e-01 -1.88418950e-01 -2.49986367e-01 -3.63167605e-01\n",
            "  -3.34434762e-01  6.80357849e-01 -2.02019716e-01 -1.32065337e-01]\n",
            " [-5.91799474e-02  2.55614743e-01 -3.85948500e-01 -2.58679155e-01\n",
            "  -2.70451223e-01 -6.13469675e-01 -3.74631584e-01 -2.17489438e-01\n",
            "   2.51008444e-01 -2.94809878e-01 -9.49256298e-02 -3.34055205e-01\n",
            "  -1.28397078e-01 -1.88418950e-01 -2.49986367e-01 -2.92531289e-01\n",
            "  -3.34434762e-01  2.03558626e+00 -2.02019716e-01 -1.32065337e-01]\n",
            " [-5.91799474e-02  5.61996524e-01  5.10644145e-01 -2.58679155e-01\n",
            "  -2.61114810e-01 -3.13536722e-01 -3.17334253e-01 -2.17489438e-01\n",
            "  -4.98036055e-01 -2.94809878e-01 -9.49256298e-02  4.95880499e-01\n",
            "  -1.28397078e-01 -1.88418950e-01 -2.39985886e-01 -2.70987213e-01\n",
            "   2.99011978e+00 -4.91258966e-01 -2.02019716e-01 -1.32065337e-01]]\n"
          ],
          "name": "stdout"
        }
      ]
    }
  ]
}